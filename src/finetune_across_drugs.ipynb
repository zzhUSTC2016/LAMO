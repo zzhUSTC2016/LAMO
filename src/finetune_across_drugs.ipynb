{
 "cells": [
  {
   "cell_type": "code",
   "execution_count": 1,
   "metadata": {},
   "outputs": [
    {
     "name": "stderr",
     "output_type": "stream",
     "text": [
      "2023-11-19 20:53:48,702 - INFO - Generate finetune data for Acetaminophen successfully! Train Length: 9960=8193+1767, Val Length: 122=100+22\n"
     ]
    },
    {
     "name": "stdout",
     "output_type": "stream",
     "text": [
      "------ Single drug evaluation: Merging lora weights and saving hf model ------\n"
     ]
    },
    {
     "data": {
      "application/vnd.jupyter.widget-view+json": {
       "model_id": "430a4baaab4d4b58bef22f06a73a5db1",
       "version_major": 2,
       "version_minor": 0
      },
      "text/plain": [
       "Loading checkpoint shards:   0%|          | 0/2 [00:00<?, ?it/s]"
      ]
     },
     "metadata": {},
     "output_type": "display_data"
    },
    {
     "name": "stdout",
     "output_type": "stream",
     "text": [
      "INFO 11-19 21:47:58 llm_engine.py:72] Initializing an LLM engine with config: model='../Models/test/checkpoint-336', tokenizer='../Models/test/checkpoint-336', tokenizer_mode=auto, revision=None, trust_remote_code=False, dtype=torch.float16, max_seq_len=2048, download_dir=None, load_format=auto, tensor_parallel_size=1, quantization=None, seed=0)\n",
      "INFO 11-19 21:48:19 llm_engine.py:205] # GPU blocks: 6454, # CPU blocks: 512\n"
     ]
    },
    {
     "name": "stderr",
     "output_type": "stream",
     "text": [
      "Processed prompts: 100%|██████████| 2490/2490 [00:55<00:00, 44.57it/s]\n",
      "2023-11-19 21:49:22,007 - INFO - med:Acetaminophen           , recall:0.9982  precision:0.9442  f1:0.9704  jaccard:0.9425  drug_pred:2431/2490, drug_gt:2042\n"
     ]
    },
    {
     "name": "stdout",
     "output_type": "stream",
     "text": [
      "INFO 11-19 21:49:22 llm_engine.py:72] Initializing an LLM engine with config: model='../Models/test/checkpoint-336', tokenizer='../Models/test/checkpoint-336', tokenizer_mode=auto, revision=None, trust_remote_code=False, dtype=torch.float16, max_seq_len=2048, download_dir=None, load_format=auto, tensor_parallel_size=1, quantization=None, seed=0)\n",
      "INFO 11-19 21:49:42 llm_engine.py:205] # GPU blocks: 6454, # CPU blocks: 512\n"
     ]
    },
    {
     "name": "stderr",
     "output_type": "stream",
     "text": [
      "Processed prompts: 100%|██████████| 3020/3020 [00:59<00:00, 50.88it/s]\n",
      "2023-11-19 21:50:47,515 - INFO - jaccard: 0.1314, recall: 0.9792, precision: 0.1316, f1: 0.2261, ddi_rate: 0.1244, drug_num: 147.70/151, refuse_rate: 0.0000\n",
      "2023-11-19 21:50:47,854 - INFO - ----------Finished training on drug: 0-Acetaminophen-----------\n",
      "\n",
      "\n",
      "2023-11-19 21:50:49,888 - INFO - Generate finetune data for Potassium chloride successfully! Train Length: 9960=7143+2817, Val Length: 135=100+35\n"
     ]
    },
    {
     "name": "stdout",
     "output_type": "stream",
     "text": [
      "------ Single drug evaluation: Merging lora weights and saving hf model ------\n"
     ]
    },
    {
     "data": {
      "application/vnd.jupyter.widget-view+json": {
       "model_id": "8a0f31839fce4101ab1600faeefeb3c9",
       "version_major": 2,
       "version_minor": 0
      },
      "text/plain": [
       "Loading checkpoint shards:   0%|          | 0/2 [00:00<?, ?it/s]"
      ]
     },
     "metadata": {},
     "output_type": "display_data"
    },
    {
     "name": "stdout",
     "output_type": "stream",
     "text": [
      "INFO 11-19 22:47:00 llm_engine.py:72] Initializing an LLM engine with config: model='../Models/test/checkpoint-352', tokenizer='../Models/test/checkpoint-352', tokenizer_mode=auto, revision=None, trust_remote_code=False, dtype=torch.float16, max_seq_len=2048, download_dir=None, load_format=auto, tensor_parallel_size=1, quantization=None, seed=0)\n",
      "INFO 11-19 22:47:20 llm_engine.py:205] # GPU blocks: 6454, # CPU blocks: 512\n"
     ]
    },
    {
     "name": "stderr",
     "output_type": "stream",
     "text": [
      "Processed prompts: 100%|██████████| 2490/2490 [00:55<00:00, 44.56it/s]\n",
      "2023-11-19 22:48:21,303 - INFO - med:Acetaminophen           , recall:0.9474  precision:0.9422  f1:0.9448  jaccard:0.8954  drug_pred:2197/2490, drug_gt:2042\n",
      "Processed prompts: 100%|██████████| 2490/2490 [00:56<00:00, 44.24it/s]\n",
      "2023-11-19 22:49:22,933 - INFO - med:Potassium chloride      , recall:0.9812  precision:0.8976  f1:0.9375  jaccard:0.8824  drug_pred:2256/2490, drug_gt:1719\n"
     ]
    },
    {
     "name": "stdout",
     "output_type": "stream",
     "text": [
      "INFO 11-19 22:49:23 llm_engine.py:72] Initializing an LLM engine with config: model='../Models/test/checkpoint-352', tokenizer='../Models/test/checkpoint-352', tokenizer_mode=auto, revision=None, trust_remote_code=False, dtype=torch.float16, max_seq_len=2048, download_dir=None, load_format=auto, tensor_parallel_size=1, quantization=None, seed=0)\n",
      "INFO 11-19 22:49:43 llm_engine.py:205] # GPU blocks: 6454, # CPU blocks: 512\n"
     ]
    },
    {
     "name": "stderr",
     "output_type": "stream",
     "text": [
      "Processed prompts: 100%|██████████| 3020/3020 [00:59<00:00, 50.99it/s]\n",
      "2023-11-19 22:50:47,892 - INFO - jaccard: 0.1234, recall: 0.8958, precision: 0.1234, f1: 0.2113, ddi_rate: 0.1132, drug_num: 133.70/151, refuse_rate: 0.0000\n",
      "2023-11-19 22:50:48,225 - INFO - ----------Finished training on drug: 1-Potassium chloride-----------\n",
      "\n",
      "\n",
      "2023-11-19 22:50:50,239 - INFO - Generate finetune data for Pantoprazole successfully! Train Length: 9958=7358+2600, Val Length: 150=100+50\n"
     ]
    }
   ],
   "source": [
    "import os\n",
    "import sys\n",
    "import logging\n",
    "import torch\n",
    "\n",
    "gpus = '2,6'\n",
    "os.environ[\"CUDA_VISIBLE_DEVICES\"] = gpus\n",
    "os.environ['MKL_THREADING_LAYER'] = 'GNU'\n",
    "sys.path.append('../')\n",
    "import utils\n",
    "from data.generate_finetune_data import generate_finetune_data\n",
    "from evaluation._1_overall_evaluation_vllm import overall_evaluation_vllm\n",
    "from evaluation._2_each_drug_evaluation_vllm import each_drug_evaluation_vllm\n",
    "\n",
    "\n",
    "output_dir = '../output/test'\n",
    "\n",
    "base_model = 'llama-2-7b'\n",
    "\n",
    "# setup logging\n",
    "log_file = os.path.join(output_dir, \"train.log\")\n",
    "logger = utils.set_logger(log_file, mode='a')\n",
    "\n",
    "_, med_names, _ = utils.load_data()\n",
    "# med_list = ['Chlorhexidine', 'Metronidazole']\n",
    "med_list = med_names\n",
    "for idx, med in enumerate(med_list):\n",
    "    data_path, val_set_size = generate_finetune_data(med, logger)    # generate finetune data\n",
    "\n",
    "    # data_path = '../data/finetune_data_ratio_2_fix_Chlorhexidine.json'\n",
    "    # val_set_size = 300\n",
    "\n",
    "    resume_from_checkpoint = 0 if idx == 0 else 1\n",
    "\n",
    "    # logger.info('Training on drug: {}'.format(med))\n",
    "    os.system(f\"CUDA_VISIBLE_DEVICES={gpus} torchrun --nproc_per_node={torch.cuda.device_count()} --master_port=29501 finetune_fix_drug.py --base_model {base_model}  --learning_rate 5e-5 --num_epochs 10 --early_stopping_patience 20 --eval_epochs 16 --val_set_size {val_set_size} --batch_size 64 --micro_batch_size 12 --train_on_inputs 0 --resume_from_checkpoint {resume_from_checkpoint} --data_path {data_path} --output_dir {output_dir}  > test.out 2> test.err\")\n",
    "\n",
    "    drug_evaluate_vllm(output_dir, med_list[:idx+1], gpu_memory_utilization=0.8, data_len=-1, logger=logger)\n",
    "    evaluate_vllm(output_dir, gpu_memory_utilization=0.8, data_len=20, logger=logger)\n",
    "    utils.rename_checkpoint(output_dir, med, idx)\n",
    "    logger.info(f'----------Finished training on drug: {idx}-{med}-----------\\n\\n')\n"
   ]
  },
  {
   "cell_type": "code",
   "execution_count": null,
   "metadata": {},
   "outputs": [
    {
     "data": {
      "text/plain": [
       "['Acetaminophen',\n",
       " 'Potassium chloride',\n",
       " 'Pantoprazole',\n",
       " 'Metoprolol',\n",
       " 'Magnesium sulfate',\n",
       " 'Furosemide',\n",
       " 'Vancomycin',\n",
       " 'Salbutamol',\n",
       " 'Oxycodone',\n",
       " 'Bisacodyl',\n",
       " 'Lorazepam',\n",
       " 'Magnesium',\n",
       " 'Ipratropium',\n",
       " 'Acetylsalicylic acid',\n",
       " 'Morphine',\n",
       " 'Ondansetron',\n",
       " 'Fentanyl',\n",
       " 'Calcium gluconate',\n",
       " 'D-glucose',\n",
       " 'Propofol',\n",
       " 'Lansoprazole',\n",
       " 'Hydromorphone',\n",
       " 'Levofloxacin',\n",
       " 'Atorvastatin',\n",
       " 'Metronidazole',\n",
       " 'Midazolam',\n",
       " 'Lisinopril',\n",
       " 'Warfarin',\n",
       " 'Lidocaine',\n",
       " 'Famotidine',\n",
       " 'Hydralazine',\n",
       " 'Chlorhexidine',\n",
       " 'Phenylephrine',\n",
       " 'Metoclopramide',\n",
       " 'Ciprofloxacin',\n",
       " 'Spironolactone',\n",
       " 'Nitroglycerin',\n",
       " 'Prednisone',\n",
       " 'Sodium bicarbonate',\n",
       " 'Tazobactam',\n",
       " 'Diphenhydramine',\n",
       " 'Omeprazole',\n",
       " 'Lactulose',\n",
       " 'Clopidogrel',\n",
       " 'Zolpidem',\n",
       " 'Fluticasone propionate',\n",
       " 'Levothyroxine',\n",
       " 'Norepinephrine',\n",
       " 'Simvastatin',\n",
       " 'Monopotassium phosphate',\n",
       " 'Ranitidine',\n",
       " 'Haloperidol',\n",
       " 'Thiamine',\n",
       " 'Cefazolin',\n",
       " 'Piperacillin',\n",
       " 'Amiodarone',\n",
       " 'Ceftriaxone',\n",
       " 'Trazodone',\n",
       " 'Phylloquinone',\n",
       " 'Miconazole',\n",
       " 'Acetylcysteine',\n",
       " 'Gabapentin',\n",
       " 'Cefepime',\n",
       " 'Enalaprilat',\n",
       " 'Amlodipine',\n",
       " 'Nystatin',\n",
       " 'Folic acid',\n",
       " 'Cyanocobalamin',\n",
       " 'Prochlorperazine',\n",
       " 'Diltiazem',\n",
       " 'Sulfamethoxazole',\n",
       " 'Methylprednisolone hemisuccinate',\n",
       " 'Trimethoprim',\n",
       " 'Dopamine',\n",
       " 'Ergocalciferol',\n",
       " 'Fluconazole',\n",
       " 'Meropenem',\n",
       " 'Glycopyrronium',\n",
       " 'Hydrocortisone',\n",
       " 'Sucralfate',\n",
       " 'Meperidine',\n",
       " 'Guaifenesin',\n",
       " 'Methylprednisolone',\n",
       " 'Captopril',\n",
       " 'Salmeterol',\n",
       " 'Olanzapine',\n",
       " 'Neostigmine',\n",
       " 'Labetalol',\n",
       " 'Magnesium hydroxide',\n",
       " 'Dexamethasone',\n",
       " 'Citalopram',\n",
       " 'Ibuprofen',\n",
       " 'Digoxin',\n",
       " 'Ampicillin',\n",
       " 'Pyridoxine',\n",
       " 'Niacin',\n",
       " 'Ascorbic acid',\n",
       " 'Dolasetron',\n",
       " 'Levetiracetam',\n",
       " 'Atropine',\n",
       " 'Tetracosactide',\n",
       " 'Riboflavin',\n",
       " 'Biotin',\n",
       " 'Pantothenic acid',\n",
       " 'Sevelamer',\n",
       " 'Sodium chloride',\n",
       " 'Hydrocortisone succinate',\n",
       " 'Tramadol',\n",
       " 'Gentamicin',\n",
       " 'Ketorolac',\n",
       " 'Phenytoin',\n",
       " 'Azithromycin',\n",
       " 'Sodium phosphate, monobasic',\n",
       " 'Diazepam',\n",
       " 'Isosorbide',\n",
       " 'Quetiapine',\n",
       " 'Atenolol',\n",
       " 'Nitroprusside',\n",
       " 'Allopurinol',\n",
       " 'Linezolid',\n",
       " 'Carvedilol',\n",
       " 'Calcium acetate',\n",
       " 'Isosorbide mononitrate',\n",
       " 'Hydrochlorothiazide',\n",
       " 'Acetazolamide',\n",
       " 'Promethazine',\n",
       " 'Clonazepam',\n",
       " 'Sertraline',\n",
       " 'Tamsulosin',\n",
       " 'Aluminum hydroxide',\n",
       " 'Clonidine',\n",
       " 'Epinephrine',\n",
       " 'Mycophenolate mofetil',\n",
       " 'Nicotine',\n",
       " 'Sulbactam',\n",
       " 'Sodium sulfate',\n",
       " 'Ceftazidime',\n",
       " 'Acyclovir',\n",
       " 'Loperamide',\n",
       " 'Octreotide',\n",
       " 'Tiotropium',\n",
       " 'Mirtazapine',\n",
       " 'Tacrolimus',\n",
       " 'Clindamycin',\n",
       " 'Erythromycin',\n",
       " 'Metolazone',\n",
       " 'Hydrocodone',\n",
       " 'Valsartan',\n",
       " 'Codeine',\n",
       " 'Fluoxetine',\n",
       " 'Nifedipine']"
      ]
     },
     "execution_count": 2,
     "metadata": {},
     "output_type": "execute_result"
    }
   ],
   "source": [
    "med_names"
   ]
  }
 ],
 "metadata": {
  "kernelspec": {
   "display_name": "vllm",
   "language": "python",
   "name": "python3"
  },
  "language_info": {
   "codemirror_mode": {
    "name": "ipython",
    "version": 3
   },
   "file_extension": ".py",
   "mimetype": "text/x-python",
   "name": "python",
   "nbconvert_exporter": "python",
   "pygments_lexer": "ipython3",
   "version": "3.11.5"
  }
 },
 "nbformat": 4,
 "nbformat_minor": 2
}
