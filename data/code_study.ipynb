{
 "cells": [
  {
   "cell_type": "code",
   "execution_count": 2,
   "metadata": {},
   "outputs": [],
   "source": []
  },
  {
   "cell_type": "code",
   "execution_count": 1,
   "metadata": {},
   "outputs": [
    {
     "name": "stdout",
     "output_type": "stream",
     "text": [
      "INFO 12-02 22:25:20 llm_engine.py:72] Initializing an LLM engine with config: model='../Models/llama-2-7b-chat/', tokenizer='../Models/llama-2-7b-chat/', tokenizer_mode=auto, revision=None, trust_remote_code=False, dtype=torch.bfloat16, max_seq_len=2048, download_dir=None, load_format=auto, tensor_parallel_size=1, quantization=None, seed=0)\n",
      "INFO 12-02 22:25:20 tokenizer.py:30] For some LLaMA V1 models, initializing the fast tokenizer may take a long time. To reduce the initialization time, consider using 'hf-internal-testing/llama-tokenizer' instead of the original tokenizer.\n",
      "INFO 12-02 22:25:46 llm_engine.py:205] # GPU blocks: 3408, # CPU blocks: 512\n"
     ]
    }
   ],
   "source": [
    "import os\n",
    "os.environ[\"CUDA_VISIBLE_DEVICES\"] = \"4\"\n",
    "import pandas as pd\n",
    "import sys\n",
    "from vllm import LLM, SamplingParams\n",
    "sys.path.append(\"../\")\n",
    "# import utils\n",
    "\n",
    "model_path = '../Models/llama-2-7b-chat/'\n",
    "model = LLM(model=model_path, gpu_memory_utilization=0.5)"
   ]
  },
  {
   "cell_type": "code",
   "execution_count": 2,
   "metadata": {},
   "outputs": [
    {
     "name": "stderr",
     "output_type": "stream",
     "text": [
      "Processed prompts: 100%|██████████| 14567/14567 [09:42<00:00, 24.99it/s] \n"
     ]
    },
    {
     "name": "stdout",
     "output_type": "stream",
     "text": [
      "21.7 54.6 25.2\n"
     ]
    }
   ],
   "source": [
    "\n",
    "# disease_dict_EHR = pd.read_csv('./mimic-iii/disease_dict_EHR.csv')\n",
    "disease_dict_EHR = pd.read_csv('./mimic-iii/D_ICD_DIAGNOSES.csv')\n",
    "# add a column 'concise_title' with null values\n",
    "disease_dict_EHR['CONCISE_TITLE'] = None\n",
    "\n",
    "# rename all long_title to concise disease name\n",
    "batch = []\n",
    "for i in range(len(disease_dict_EHR)):\n",
    "    long_title = disease_dict_EHR.loc[i, 'LONG_TITLE']\n",
    "\n",
    "    prompts = [f\"Rename 'Hypertensive chronic kidney disease, unspecified, with chronic kidney disease stage V or end stage renal disease' to be concise disease name: 'Malignant Hypertensive End Stage Renal Disease'\\\n",
    "    \\\n",
    "    Rename 'Infection and inflammatory reaction due to other vascular device, implant, and graft' to be concise disease name: 'Vascular Device Infection'\\\n",
    "    \\\n",
    "    Rename 'Subendocardial infarction, initial episode of care' to be concise disease name: 'Initial Subendocardial Infarction'\\\n",
    "    \\\n",
    "    Rename 'Surgical operation with anastomosis, bypass, or graft, with natural or artificial tissues used as implant causing abnormal patient reaction, or later complication, without mention of misadventure at time of operation' to be concise disease name: 'Implant Complication after Surgical Anastomosis' \\\n",
    "    \\\n",
    "    Rename 'Intestinal infection due to Clostridium difficile' to be concise disease name: Clostridium difficile Enteritis'\\\n",
    "    \\\n",
    "    Rename 'Methicillin susceptible Staphylococcus aureus in conditions classified elsewhere and of unspecified site' to be concise disease name: 'Methicillin-Susceptible Staphylococcus Aureus Infection'\\\n",
    "    \\\n",
    "    Rename 'Other specified bacterial infections in conditions classified elsewhere and of unspecified site, other anaerobes' to be concise disease name: 'Anaerobe Infection'\\\n",
    "    \\\n",
    "    Rename 'Diabetes with ophthalmic manifestations, type II or unspecified type, uncontrolled' to be concise disease name: 'Type II Diabetic Retinopathy'\\\n",
    "    \\\n",
    "    Rename 'Other specified disorders of adrenal glands' to be concise disease name: 'Adrenal Gland Disorder'\\\n",
    "    \\\n",
    "    Rename 'Other causes of encephalitis and encephalomyelitis' to be concise disease name: 'Encephalitis and Encephalomyelitis'\\\n",
    "    \\\n",
    "    Rename '{long_title}' to be concise disease name: \\\n",
    "    \"]\n",
    "    batch.extend(prompts)\n",
    "\n",
    "\n",
    "sampling_params = SamplingParams(temperature=0, presence_penalty=1, max_tokens=50, stop=[\"\\n\", \"Rename\"])\n",
    "msg = model.generate(batch, sampling_params)\n",
    "msg = list(map(lambda x: x.outputs[0].text.split('Rename')[0].split('\\n')[0].strip(\"\\'\\n '\"), msg))\n",
    "# for m in msg:\n",
    "#     print(long_title)\n",
    "#     print(m)\n",
    "for i in range(len(disease_dict_EHR)):\n",
    "    disease_dict_EHR.loc[i, 'CONCISE_TITLE'] = msg[i]\n",
    "    \n",
    "# disease_dict_EHR.to_csv('./mimic-iii/disease_dict_EHR.csv', index=False)\n",
    "disease_dict_EHR.to_csv('./mimic-iii/D_ICD_DIAGNOSES.csv', index=False)\n",
    "print(disease_dict_EHR.SHORT_TITLE.str.len().mean().__round__(1), \n",
    "      disease_dict_EHR.LONG_TITLE.str.len().mean().__round__(1), \n",
    "      disease_dict_EHR.CONCISE_TITLE.str.len().mean().__round__(1))\n",
    "# 计算disease_dict_EHR.CONCISE_TITLE的平均长度\n",
    "# 21.2 44.9 29.5  现有的\n",
    "# 21.2 44.9 26.5  去掉 Unspecified Site\n",
    "# 21.2 44.9 24.8  增加了糖尿病的例子\n",
    "# 21.2 44.9 23.9  增加了肾病的例子\n",
    "# 21.2 44.9 23.6  去掉了一个other"
   ]
  },
  {
   "cell_type": "code",
   "execution_count": 3,
   "metadata": {},
   "outputs": [
    {
     "name": "stderr",
     "output_type": "stream",
     "text": [
      "Processed prompts: 100%|██████████| 3882/3882 [01:27<00:00, 44.47it/s] \n"
     ]
    },
    {
     "name": "stdout",
     "output_type": "stream",
     "text": [
      "21.6 41.0 22.2\n"
     ]
    }
   ],
   "source": [
    "procedure_dict = pd.read_csv('./mimic-iii/D_ICD_PROCEDURES.csv')\n",
    "# add a column 'concise_title' with null values\n",
    "procedure_dict['CONCISE_TITLE'] = None\n",
    "\n",
    "# rename all long_title to concise procedure name\n",
    "batch = []\n",
    "for i in range(len(procedure_dict)):\n",
    "    long_title = procedure_dict.loc[i, 'LONG_TITLE']\n",
    "# Lumbar sympathectomy\n",
    "# Lumbar sympathectomy\n",
    "    prompts = [f\"Rename 'Microscopic examination of specimen from trachea, bronchus, pleura, lung, and other thoracic specimen, and of sputum, cell block and Papanicolaou smear' to be concise procedure name: 'Thoracic Specimen Microscopy'\\\n",
    "    \\\n",
    "    Rename 'Reconstruction of eyelid involving lid margin, partial-thickness' to be concise procedure name: 'Eyelid Margin Reconstruction'\\\n",
    "    \\\n",
    "    Rename 'Other reconstruction of eyelid with flaps or grafts' to be concise procedure name: 'Eyelid Reconstruction with Flaps or Grafts'\\\n",
    "    \\\n",
    "    Rename 'Lumbar sympathectomy' to be concise procedure name: 'Lumbar Sympathectomy'\\\n",
    "    \\\n",
    "    Rename 'Microscopic examination of specimen from other site, parasitology' to be concise procedure name: 'Parasitology'\\\n",
    "    \\\n",
    "    Rename 'Cardiopulmonary resuscitation, not otherwise specified' to be concise procedure name: 'CPR'\\\n",
    "    \\\n",
    "    Rename '{long_title}' to be concise procedure name: \"]\n",
    "    batch.extend(prompts)\n",
    "\n",
    "sampling_params = SamplingParams(temperature=0, presence_penalty=1, max_tokens=50, stop=[\"\\n\", \"Rename\"])\n",
    "msg = model.generate(batch, sampling_params)\n",
    "msg = list(map(lambda x: x.outputs[0].text.split('Rename')[0].split('\\n')[0].strip(\"\\'\\n '\"), msg))\n",
    "# for idx, m in enumerate(msg):\n",
    "#     print(procedure_dict.loc[idx, 'LONG_TITLE'])\n",
    "#     print(m)\n",
    "#     print('\\n')\n",
    "for i in range(len(procedure_dict)):\n",
    "    procedure_dict.loc[i, 'CONCISE_TITLE'] = msg[i]\n",
    "\n",
    "procedure_dict.to_csv('./mimic-iii/D_ICD_PROCEDURES.csv', index=False)\n",
    "print(procedure_dict.SHORT_TITLE.str.len().mean().__round__(1), \n",
    "      procedure_dict.LONG_TITLE.str.len().mean().__round__(1), \n",
    "      procedure_dict.CONCISE_TITLE.str.len().mean().__round__(1))"
   ]
  },
  {
   "cell_type": "code",
   "execution_count": 53,
   "metadata": {},
   "outputs": [
    {
     "data": {
      "text/plain": [
       "[\"Rename 'Microscopic examination of specimen from trachea, bronchus, pleura, lung, and other thoracic specimen, and of sputum, cell block and Papanicolaou smear' to be concise procedure name: 'Thoracic Specimen Microscopy'        Rename 'Reconstruction of eyelid involving lid margin, partial-thickness' to be concise procedure name: 'Eyelid Margin Reconstruction'    Rename 'Canthotomy' to be concise procedure name: \",\n",
       " \"Rename 'Microscopic examination of specimen from trachea, bronchus, pleura, lung, and other thoracic specimen, and of sputum, cell block and Papanicolaou smear' to be concise procedure name: 'Thoracic Specimen Microscopy'        Rename 'Reconstruction of eyelid involving lid margin, partial-thickness' to be concise procedure name: 'Eyelid Margin Reconstruction'    Rename 'Blepharorrhaphy' to be concise procedure name: \",\n",
       " \"Rename 'Microscopic examination of specimen from trachea, bronchus, pleura, lung, and other thoracic specimen, and of sputum, cell block and Papanicolaou smear' to be concise procedure name: 'Thoracic Specimen Microscopy'        Rename 'Reconstruction of eyelid involving lid margin, partial-thickness' to be concise procedure name: 'Eyelid Margin Reconstruction'    Rename 'Other adjustment of lid position' to be concise procedure name: \",\n",
       " \"Rename 'Microscopic examination of specimen from trachea, bronchus, pleura, lung, and other thoracic specimen, and of sputum, cell block and Papanicolaou smear' to be concise procedure name: 'Thoracic Specimen Microscopy'        Rename 'Reconstruction of eyelid involving lid margin, partial-thickness' to be concise procedure name: 'Eyelid Margin Reconstruction'    Rename 'Reconstruction of eyelid with skin flap or graft' to be concise procedure name: \",\n",
       " \"Rename 'Microscopic examination of specimen from trachea, bronchus, pleura, lung, and other thoracic specimen, and of sputum, cell block and Papanicolaou smear' to be concise procedure name: 'Thoracic Specimen Microscopy'        Rename 'Reconstruction of eyelid involving lid margin, partial-thickness' to be concise procedure name: 'Eyelid Margin Reconstruction'    Rename 'Reconstruction of eyelid with mucous membrane flap or graft' to be concise procedure name: \",\n",
       " \"Rename 'Microscopic examination of specimen from trachea, bronchus, pleura, lung, and other thoracic specimen, and of sputum, cell block and Papanicolaou smear' to be concise procedure name: 'Thoracic Specimen Microscopy'        Rename 'Reconstruction of eyelid involving lid margin, partial-thickness' to be concise procedure name: 'Eyelid Margin Reconstruction'    Rename 'Reconstruction of eyelid with hair follicle graft' to be concise procedure name: \",\n",
       " \"Rename 'Microscopic examination of specimen from trachea, bronchus, pleura, lung, and other thoracic specimen, and of sputum, cell block and Papanicolaou smear' to be concise procedure name: 'Thoracic Specimen Microscopy'        Rename 'Reconstruction of eyelid involving lid margin, partial-thickness' to be concise procedure name: 'Eyelid Margin Reconstruction'    Rename 'Reconstruction of eyelid with tarsoconjunctival flap' to be concise procedure name: \",\n",
       " \"Rename 'Microscopic examination of specimen from trachea, bronchus, pleura, lung, and other thoracic specimen, and of sputum, cell block and Papanicolaou smear' to be concise procedure name: 'Thoracic Specimen Microscopy'        Rename 'Reconstruction of eyelid involving lid margin, partial-thickness' to be concise procedure name: 'Eyelid Margin Reconstruction'    Rename 'Other reconstruction of eyelid with flaps or grafts' to be concise procedure name: \",\n",
       " \"Rename 'Microscopic examination of specimen from trachea, bronchus, pleura, lung, and other thoracic specimen, and of sputum, cell block and Papanicolaou smear' to be concise procedure name: 'Thoracic Specimen Microscopy'        Rename 'Reconstruction of eyelid involving lid margin, partial-thickness' to be concise procedure name: 'Eyelid Margin Reconstruction'    Rename 'Reconstruction of eyelid, not otherwise specified' to be concise procedure name: \",\n",
       " \"Rename 'Microscopic examination of specimen from trachea, bronchus, pleura, lung, and other thoracic specimen, and of sputum, cell block and Papanicolaou smear' to be concise procedure name: 'Thoracic Specimen Microscopy'        Rename 'Reconstruction of eyelid involving lid margin, partial-thickness' to be concise procedure name: 'Eyelid Margin Reconstruction'    Rename 'Reconstruction of eyelid involving lid margin, partial-thickness' to be concise procedure name: \"]"
      ]
     },
     "execution_count": 53,
     "metadata": {},
     "output_type": "execute_result"
    }
   ],
   "source": [
    "batch"
   ]
  },
  {
   "cell_type": "code",
   "execution_count": 52,
   "metadata": {},
   "outputs": [
    {
     "data": {
      "text/html": [
       "<div>\n",
       "<style scoped>\n",
       "    .dataframe tbody tr th:only-of-type {\n",
       "        vertical-align: middle;\n",
       "    }\n",
       "\n",
       "    .dataframe tbody tr th {\n",
       "        vertical-align: top;\n",
       "    }\n",
       "\n",
       "    .dataframe thead th {\n",
       "        text-align: right;\n",
       "    }\n",
       "</style>\n",
       "<table border=\"1\" class=\"dataframe\">\n",
       "  <thead>\n",
       "    <tr style=\"text-align: right;\">\n",
       "      <th></th>\n",
       "      <th>ROW_ID</th>\n",
       "      <th>ICD9_CODE</th>\n",
       "      <th>SHORT_TITLE</th>\n",
       "      <th>LONG_TITLE</th>\n",
       "      <th>CONCISE_TITLE</th>\n",
       "    </tr>\n",
       "  </thead>\n",
       "  <tbody>\n",
       "    <tr>\n",
       "      <th>0</th>\n",
       "      <td>264</td>\n",
       "      <td>851</td>\n",
       "      <td>Canthotomy</td>\n",
       "      <td>Canthotomy</td>\n",
       "      <td>None</td>\n",
       "    </tr>\n",
       "    <tr>\n",
       "      <th>1</th>\n",
       "      <td>265</td>\n",
       "      <td>852</td>\n",
       "      <td>Blepharorrhaphy</td>\n",
       "      <td>Blepharorrhaphy</td>\n",
       "      <td>None</td>\n",
       "    </tr>\n",
       "    <tr>\n",
       "      <th>2</th>\n",
       "      <td>266</td>\n",
       "      <td>859</td>\n",
       "      <td>Adjust lid position NEC</td>\n",
       "      <td>Other adjustment of lid position</td>\n",
       "      <td>None</td>\n",
       "    </tr>\n",
       "    <tr>\n",
       "      <th>3</th>\n",
       "      <td>267</td>\n",
       "      <td>861</td>\n",
       "      <td>Lid reconst w skin graft</td>\n",
       "      <td>Reconstruction of eyelid with skin flap or graft</td>\n",
       "      <td>None</td>\n",
       "    </tr>\n",
       "    <tr>\n",
       "      <th>4</th>\n",
       "      <td>268</td>\n",
       "      <td>862</td>\n",
       "      <td>Lid reconst w muc graft</td>\n",
       "      <td>Reconstruction of eyelid with mucous membrane ...</td>\n",
       "      <td>None</td>\n",
       "    </tr>\n",
       "    <tr>\n",
       "      <th>...</th>\n",
       "      <td>...</td>\n",
       "      <td>...</td>\n",
       "      <td>...</td>\n",
       "      <td>...</td>\n",
       "      <td>...</td>\n",
       "    </tr>\n",
       "    <tr>\n",
       "      <th>3877</th>\n",
       "      <td>3344</td>\n",
       "      <td>9959</td>\n",
       "      <td>Vaccination/innocula NEC</td>\n",
       "      <td>Other vaccination and inoculation</td>\n",
       "      <td>None</td>\n",
       "    </tr>\n",
       "    <tr>\n",
       "      <th>3878</th>\n",
       "      <td>3345</td>\n",
       "      <td>9960</td>\n",
       "      <td>Cardiopulm resuscita NOS</td>\n",
       "      <td>Cardiopulmonary resuscitation, not otherwise s...</td>\n",
       "      <td>None</td>\n",
       "    </tr>\n",
       "    <tr>\n",
       "      <th>3879</th>\n",
       "      <td>3346</td>\n",
       "      <td>9961</td>\n",
       "      <td>Atrial cardioversion</td>\n",
       "      <td>Atrial cardioversion</td>\n",
       "      <td>None</td>\n",
       "    </tr>\n",
       "    <tr>\n",
       "      <th>3880</th>\n",
       "      <td>3347</td>\n",
       "      <td>9962</td>\n",
       "      <td>Heart countershock NEC</td>\n",
       "      <td>Other electric countershock of heart</td>\n",
       "      <td>None</td>\n",
       "    </tr>\n",
       "    <tr>\n",
       "      <th>3881</th>\n",
       "      <td>3348</td>\n",
       "      <td>9963</td>\n",
       "      <td>Closed chest card massag</td>\n",
       "      <td>Closed chest cardiac massage</td>\n",
       "      <td>None</td>\n",
       "    </tr>\n",
       "  </tbody>\n",
       "</table>\n",
       "<p>3882 rows × 5 columns</p>\n",
       "</div>"
      ],
      "text/plain": [
       "      ROW_ID  ICD9_CODE               SHORT_TITLE  \\\n",
       "0        264        851                Canthotomy   \n",
       "1        265        852           Blepharorrhaphy   \n",
       "2        266        859   Adjust lid position NEC   \n",
       "3        267        861  Lid reconst w skin graft   \n",
       "4        268        862   Lid reconst w muc graft   \n",
       "...      ...        ...                       ...   \n",
       "3877    3344       9959  Vaccination/innocula NEC   \n",
       "3878    3345       9960  Cardiopulm resuscita NOS   \n",
       "3879    3346       9961      Atrial cardioversion   \n",
       "3880    3347       9962    Heart countershock NEC   \n",
       "3881    3348       9963  Closed chest card massag   \n",
       "\n",
       "                                             LONG_TITLE CONCISE_TITLE  \n",
       "0                                            Canthotomy          None  \n",
       "1                                       Blepharorrhaphy          None  \n",
       "2                      Other adjustment of lid position          None  \n",
       "3      Reconstruction of eyelid with skin flap or graft          None  \n",
       "4     Reconstruction of eyelid with mucous membrane ...          None  \n",
       "...                                                 ...           ...  \n",
       "3877                  Other vaccination and inoculation          None  \n",
       "3878  Cardiopulmonary resuscitation, not otherwise s...          None  \n",
       "3879                               Atrial cardioversion          None  \n",
       "3880               Other electric countershock of heart          None  \n",
       "3881                       Closed chest cardiac massage          None  \n",
       "\n",
       "[3882 rows x 5 columns]"
      ]
     },
     "execution_count": 52,
     "metadata": {},
     "output_type": "execute_result"
    }
   ],
   "source": [
    "procedure_dict"
   ]
  }
 ],
 "metadata": {
  "kernelspec": {
   "display_name": "vllm",
   "language": "python",
   "name": "python3"
  },
  "language_info": {
   "codemirror_mode": {
    "name": "ipython",
    "version": 3
   },
   "file_extension": ".py",
   "mimetype": "text/x-python",
   "name": "python",
   "nbconvert_exporter": "python",
   "pygments_lexer": "ipython3",
   "version": "3.11.5"
  }
 },
 "nbformat": 4,
 "nbformat_minor": 2
}
