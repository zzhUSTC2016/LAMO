{
 "cells": [
  {
   "cell_type": "code",
   "execution_count": 1,
   "metadata": {},
   "outputs": [
    {
     "name": "stdout",
     "output_type": "stream",
     "text": [
      "----------------negative_ratio: 4----------------------\n",
      "Total number of drugs: 151\n",
      "Train data size: 9960\n",
      "\n"
     ]
    },
    {
     "name": "stderr",
     "output_type": "stream",
     "text": [
      "100%|██████████| 9960/9960 [00:20<00:00, 475.59it/s]\n"
     ]
    },
    {
     "name": "stdout",
     "output_type": "stream",
     "text": [
      "data appended: 1053416\n",
      "Total number of drugs: 151\n",
      "Val data size: 2490\n",
      "\n"
     ]
    },
    {
     "name": "stderr",
     "output_type": "stream",
     "text": [
      "100%|██████████| 10/10 [00:00<00:00, 335.99it/s]"
     ]
    },
    {
     "name": "stdout",
     "output_type": "stream",
     "text": [
      "data appended: 1510\n",
      "all finetune data generated: 1054926\n"
     ]
    },
    {
     "name": "stderr",
     "output_type": "stream",
     "text": [
      "\n"
     ]
    },
    {
     "name": "stdout",
     "output_type": "stream",
     "text": [
      "finetune data saved to ../data/finetune_data_ratio_4.json\n",
      "\n",
      "\n",
      "----------------negative_ratio: 7----------------------\n",
      "Total number of drugs: 151\n",
      "Train data size: 9960\n",
      "\n"
     ]
    },
    {
     "name": "stderr",
     "output_type": "stream",
     "text": [
      "100%|██████████| 9960/9960 [00:25<00:00, 390.43it/s]\n"
     ]
    },
    {
     "name": "stdout",
     "output_type": "stream",
     "text": [
      "data appended: 1325878\n",
      "Total number of drugs: 151\n",
      "Val data size: 2490\n",
      "\n"
     ]
    },
    {
     "name": "stderr",
     "output_type": "stream",
     "text": [
      "100%|██████████| 10/10 [00:00<00:00, 336.70it/s]"
     ]
    },
    {
     "name": "stdout",
     "output_type": "stream",
     "text": [
      "data appended: 1510\n",
      "all finetune data generated: 1327388\n"
     ]
    },
    {
     "name": "stderr",
     "output_type": "stream",
     "text": [
      "\n"
     ]
    },
    {
     "name": "stdout",
     "output_type": "stream",
     "text": [
      "finetune data saved to ../data/finetune_data_ratio_7.json\n",
      "\n",
      "\n",
      "----------------negative_ratio: 10----------------------\n",
      "Total number of drugs: 151\n",
      "Train data size: 9960\n",
      "\n"
     ]
    },
    {
     "name": "stderr",
     "output_type": "stream",
     "text": [
      "100%|██████████| 9960/9960 [00:27<00:00, 365.10it/s]\n"
     ]
    },
    {
     "name": "stdout",
     "output_type": "stream",
     "text": [
      "data appended: 1423232\n",
      "Total number of drugs: 151\n",
      "Val data size: 2490\n",
      "\n"
     ]
    },
    {
     "name": "stderr",
     "output_type": "stream",
     "text": [
      "100%|██████████| 10/10 [00:00<00:00, 337.05it/s]"
     ]
    },
    {
     "name": "stdout",
     "output_type": "stream",
     "text": [
      "data appended: 1510\n",
      "all finetune data generated: 1424742\n"
     ]
    },
    {
     "name": "stderr",
     "output_type": "stream",
     "text": [
      "\n"
     ]
    },
    {
     "name": "stdout",
     "output_type": "stream",
     "text": [
      "finetune data saved to ../data/finetune_data_ratio_10.json\n",
      "\n",
      "\n"
     ]
    }
   ],
   "source": [
    "import json\n",
    "import numpy as np\n",
    "import random\n",
    "import sys\n",
    "from tqdm import tqdm\n",
    "sys.path.append('../')\n",
    "import utils\n",
    "\n",
    "# fix random seed\n",
    "np.random.seed(2023)\n",
    "random.seed(2023)\n",
    "\n",
    "def append_data(finetune_data, data, med_names, num_visits, negative_ratio):\n",
    "    data_len = len(finetune_data)\n",
    "    prompter = utils.Prompter() \n",
    "    if num_visits == -1:   # use all the data\n",
    "        num_visits = len(data)\n",
    "    data_sample = data.iloc[:num_visits]\n",
    "    for idx, row in tqdm(data_sample.iterrows(), total=len(data_sample)):\n",
    "        pos_med_list = eval(row['drug_name'])\n",
    "        if negative_ratio == -1:            # use all the drugs\n",
    "            neg_med_list = list(set(med_names) - set(pos_med_list))\n",
    "        else:                               # use a subset of drugs as negative samples\n",
    "            if negative_ratio * len(pos_med_list) > len(set(med_names) - set(pos_med_list)):\n",
    "                    # if the number of negative samples is larger than the available drugs, use all the drugs as neg samples\n",
    "                neg_med_list = list(set(med_names) - set(pos_med_list))\n",
    "            else:   # randomly sample negative samples\n",
    "                neg_med_list = random.sample(\n",
    "                    list(set(med_names) - set(pos_med_list)), negative_ratio * len(pos_med_list))\n",
    "        med_list = pos_med_list + neg_med_list\n",
    "        random.shuffle(med_list)\n",
    "        for med in med_list:\n",
    "            input = prompter.generate_input(row, drug_candidate=med)\n",
    "            output = 'Yes.' if med in pos_med_list else 'No.'\n",
    "            json_item = {\"input\": input, \"output\": output}\n",
    "            finetune_data.append(json_item)\n",
    "    print('data appended: {}'.format(len(finetune_data) - data_len))\n",
    "    return finetune_data\n",
    "\n",
    "def get_data4finetune(num_visits, negative_ratio, output_filename):\n",
    "    '''\n",
    "    :param data: the original data4LLM\n",
    "    :param med_names: the list of all the drugs\n",
    "    :param negative_ratio: the ratio of negative samples to positive samples\n",
    "    :param num_samples: the number of samples to be generated\n",
    "    :param output_filename: the output filename\n",
    "    :return: the finetune data\n",
    "    '''\n",
    "    finetune_data = []\n",
    "\n",
    "    data_train, med_names, _ = utils.load_data(mode='train')\n",
    "    finetune_data = append_data(finetune_data, \\\n",
    "        data_train, med_names, num_visits, negative_ratio)\n",
    "    \n",
    "    # val data\n",
    "    data_val, med_names = utils.load_data(mode='val')\n",
    "    finetune_data = append_data(finetune_data, \\\n",
    "        data_val, med_names, num_visits=10, negative_ratio=-1)\n",
    "    \n",
    "    print('all finetune data generated: {}'.format(len(finetune_data)))\n",
    "    with open(output_filename, 'w') as json_file:\n",
    "        json.dump(finetune_data, json_file, indent=4)\n",
    "        print('finetune data saved to {}\\n\\n'.format(output_filename))\n",
    "    return finetune_data\n",
    "\n",
    "\n",
    "# :param num_visits: the number of visits to be used, -1 means all the visits\n",
    "# :param negative_ratio: the ratio of negative samples to positive samples, -1 means all the drugs\n",
    "\n",
    "# num_visits = 100\n",
    "num_visits = -1    # use all the visits\n",
    "\n",
    "\n",
    "for negative_ratio in [4,7,10]:\n",
    "    print('----------------negative_ratio: {}----------------------'.format(negative_ratio))\n",
    "    output_filename = '../data/finetune_data_ratio_{}.json'.format(negative_ratio)\n",
    "    # output_filename = '../data/finetune_data_test.json'\n",
    "    data = get_data4finetune(num_visits, negative_ratio, output_filename)"
   ]
  },
  {
   "cell_type": "code",
   "execution_count": 5,
   "metadata": {},
   "outputs": [
    {
     "name": "stdout",
     "output_type": "stream",
     "text": [
      "instruction average length: 68.41432346723045\n"
     ]
    }
   ],
   "source": [
    "# 计算instruction的平均单词数\n",
    "instruction_len = []\n",
    "for item in data:\n",
    "    instruction_len.append(len(item['input'].split()))\n",
    "print('instruction average length: {}'.format(np.mean(instruction_len)))\n"
   ]
  },
  {
   "cell_type": "code",
   "execution_count": 6,
   "metadata": {},
   "outputs": [
    {
     "name": "stdout",
     "output_type": "stream",
     "text": [
      "output Yes ratio: 0.2\n"
     ]
    }
   ],
   "source": [
    "# 计算output为Yes的比例\n",
    "output_yes = 0\n",
    "for item in data:\n",
    "    if item['output'] == 'Yes.':\n",
    "        output_yes += 1\n",
    "print('output Yes ratio: {}'.format(output_yes / len(data)))"
   ]
  }
 ],
 "metadata": {
  "kernelspec": {
   "display_name": "vllm",
   "language": "python",
   "name": "python3"
  },
  "language_info": {
   "codemirror_mode": {
    "name": "ipython",
    "version": 3
   },
   "file_extension": ".py",
   "mimetype": "text/x-python",
   "name": "python",
   "nbconvert_exporter": "python",
   "pygments_lexer": "ipython3",
   "version": "3.11.5"
  }
 },
 "nbformat": 4,
 "nbformat_minor": 2
}
